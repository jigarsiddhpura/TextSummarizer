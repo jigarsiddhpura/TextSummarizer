{
  "nbformat": 4,
  "nbformat_minor": 0,
  "metadata": {
    "colab": {
      "provenance": [],
      "gpuType": "T4",
      "authorship_tag": "ABX9TyMBP7qckAVgzhpioAKlxOIf",
      "include_colab_link": true
    },
    "kernelspec": {
      "name": "python3",
      "display_name": "Python 3"
    },
    "language_info": {
      "name": "python"
    },
    "accelerator": "GPU",
    "gpuClass": "standard"
  },
  "cells": [
    {
      "cell_type": "markdown",
      "metadata": {
        "id": "view-in-github",
        "colab_type": "text"
      },
      "source": [
        "<a href=\"https://colab.research.google.com/github/jigarsiddhpura/TextSummarizer/blob/main/TextSummarizer.ipynb\" target=\"_parent\"><img src=\"https://colab.research.google.com/assets/colab-badge.svg\" alt=\"Open In Colab\"/></a>"
      ]
    },
    {
      "cell_type": "code",
      "source": [
        "# !pip install -U pip setuptools wheel\n",
        "# !pip install -U spacy\n",
        "# !python -m spacy download en_core_web_lg"
      ],
      "metadata": {
        "id": "t2g5F0LaJ2km"
      },
      "execution_count": 100,
      "outputs": []
    },
    {
      "cell_type": "code",
      "execution_count": 87,
      "metadata": {
        "id": "x138av59JdQ8"
      },
      "outputs": [],
      "source": [
        "import spacy\n",
        "nlp = spacy.load(\"en_core_web_lg\")"
      ]
    },
    {
      "cell_type": "code",
      "source": [
        "from spacy.lang.en.stop_words import STOP_WORDS\n",
        "from string import punctuation\n",
        "from sklearn.feature_extraction.text import TfidfVectorizer\n",
        "import numpy as np\n",
        "from heapq import nlargest\n"
      ],
      "metadata": {
        "id": "6A6WH6DRNtZV"
      },
      "execution_count": 110,
      "outputs": []
    },
    {
      "cell_type": "code",
      "source": [
        "document = \"This paper focuses on the genre of Gothic romance, and how this genre has evolved into the 21st century. By examining Mike Flannagan’s 2020 tv-show The Haunting of Bly Manor, I will argue that this tv-show subverts the genre of Gothic romance. The Haunting of Bly Manor is a modern adaptation of Henry James’ The Turn of the Screw. It also includes some of James’ other short stories, such as ‘The Romance of Certain Old Clothes’ and ‘The Jolly Corner’. The Haunting of Bly contains all the typical ingredients for a gothic romance – a young governess, a large, haunted manor, two beautiful but slightly peculiar children, and ghosts – but its message concerning love diverges from older specimen. The Gothic helps articulate the social, cultural, and political anxieties of society, and these naturally differ between works depending on the time they were written (Schmitt, 2007). With emancipation and the emergence of women’s rights, the conventional central problem of the (Victorian) Gothic Romance – love as the main hardship in the narrative – is no longer feasible in our 21st century society. Consequently, in The Haunting of Bly, the love story is not the central problem of the narrative – as it is in many gothic romances like Jane Eyre – but rather the solution to plot’s main obstacle. Furthermore, the romance in The Haunting of Bly Manor is a queer romance. With his adaptation of The Turn of the Screw, Flannagan gives the Gothic Romance a modern spin and subverts the genre of Gothic Romance. This is more fitting to a 21st century Gothic Romance, as opposed to the (classic) Victorian Gothic romance.\""
      ],
      "metadata": {
        "id": "l4BH5KfMudhP"
      },
      "execution_count": 130,
      "outputs": []
    },
    {
      "cell_type": "markdown",
      "source": [
        "### Preprocessing"
      ],
      "metadata": {
        "id": "OUVXgix7wyON"
      }
    },
    {
      "cell_type": "code",
      "source": [
        "doc = nlp(document)"
      ],
      "metadata": {
        "id": "pv3jFoPkJsQT"
      },
      "execution_count": 131,
      "outputs": []
    },
    {
      "cell_type": "code",
      "source": [
        "keywords = []\n",
        "stopWords = list(STOP_WORDS)\n",
        "stopWords.remove(\"not\")\n",
        "pos_tag = ['NOUN','VERB','ADJ','PROPN']\n",
        "\n",
        "for token in doc:\n",
        "  if(token.text in stopWords or token.text in punctuation):\n",
        "    continue\n",
        "  if(token.pos_ in pos_tag):\n",
        "    keywords.append(token.text)\n",
        "  "
      ],
      "metadata": {
        "id": "lcXAhZg1My0F"
      },
      "execution_count": 132,
      "outputs": []
    },
    {
      "cell_type": "code",
      "source": [
        "sentences = [sent for sent in doc.sents]\n",
        "processed_sentences = []\n",
        "\n",
        "for sent in sentences:\n",
        "  processed_sent = \" \".join([token.lemma_ for token in sent if token.pos_ in pos_tag if not token.text in stopWords and not token.is_punct])\n",
        "  processed_sentences.append(processed_sent)"
      ],
      "metadata": {
        "id": "w0WtzQspS44I"
      },
      "execution_count": 133,
      "outputs": []
    },
    {
      "cell_type": "markdown",
      "source": [
        "### Identify important sentences"
      ],
      "metadata": {
        "id": "gaJ0cWtNw5xN"
      }
    },
    {
      "cell_type": "code",
      "source": [
        "vectorizer = TfidfVectorizer()\n",
        "tf_idf = vectorizer.fit_transform(processed_sentences)"
      ],
      "metadata": {
        "id": "w06R_veoTn5K"
      },
      "execution_count": 134,
      "outputs": []
    },
    {
      "cell_type": "code",
      "source": [
        "tf_idf"
      ],
      "metadata": {
        "colab": {
          "base_uri": "https://localhost:8080/"
        },
        "id": "jl3KSwzVUwUx",
        "outputId": "62a17843-6d42-4f06-a65f-9338226c363f"
      },
      "execution_count": 135,
      "outputs": [
        {
          "output_type": "execute_result",
          "data": {
            "text/plain": [
              "<12x83 sparse matrix of type '<class 'numpy.float64'>'\n",
              "\twith 132 stored elements in Compressed Sparse Row format>"
            ]
          },
          "metadata": {},
          "execution_count": 135
        }
      ]
    },
    {
      "cell_type": "code",
      "source": [
        "sentence_scores = tf_idf.sum(axis=1)\n",
        "sentence_scores"
      ],
      "metadata": {
        "colab": {
          "base_uri": "https://localhost:8080/"
        },
        "id": "W9UnG2NwU7Vy",
        "outputId": "3ef0816a-c174-475f-8068-bfbebcf7587c"
      },
      "execution_count": 136,
      "outputs": [
        {
          "output_type": "execute_result",
          "data": {
            "text/plain": [
              "matrix([[2.65111274],\n",
              "        [3.15168843],\n",
              "        [2.60685802],\n",
              "        [1.41421356],\n",
              "        [3.10972681],\n",
              "        [4.58939231],\n",
              "        [3.70356065],\n",
              "        [4.16518503],\n",
              "        [3.77580733],\n",
              "        [2.1913767 ],\n",
              "        [3.30684514],\n",
              "        [2.81226646]])"
            ]
          },
          "metadata": {},
          "execution_count": 136
        }
      ]
    },
    {
      "cell_type": "code",
      "source": [
        "weighted_column_indices = np.argsort(sentence_scores, axis=0)\n",
        "print(\"Sorted row indices:\", weighted_column_indices)"
      ],
      "metadata": {
        "colab": {
          "base_uri": "https://localhost:8080/"
        },
        "id": "cowLCvIfbHMT",
        "outputId": "21547d14-cb70-4a12-ecfa-9ec9ce1b02f5"
      },
      "execution_count": 137,
      "outputs": [
        {
          "output_type": "stream",
          "name": "stdout",
          "text": [
            "Sorted row indices: [[ 3]\n",
            " [ 9]\n",
            " [ 2]\n",
            " [ 0]\n",
            " [11]\n",
            " [ 4]\n",
            " [ 1]\n",
            " [10]\n",
            " [ 6]\n",
            " [ 8]\n",
            " [ 7]\n",
            " [ 5]]\n"
          ]
        }
      ]
    },
    {
      "cell_type": "code",
      "source": [
        "weighted_indices = np.ravel(weighted_column_indices)\n",
        "weighted_indices"
      ],
      "metadata": {
        "colab": {
          "base_uri": "https://localhost:8080/"
        },
        "id": "S0SbqcmxcxY8",
        "outputId": "439ff979-7ab9-4006-afbb-1b1533e314df"
      },
      "execution_count": 138,
      "outputs": [
        {
          "output_type": "execute_result",
          "data": {
            "text/plain": [
              "array([ 3,  9,  2,  0, 11,  4,  1, 10,  6,  8,  7,  5])"
            ]
          },
          "metadata": {},
          "execution_count": 138
        }
      ]
    },
    {
      "cell_type": "code",
      "source": [
        "TOP_SENT_COUNT = 5"
      ],
      "metadata": {
        "id": "l3erzjCElMtC"
      },
      "execution_count": 139,
      "outputs": []
    },
    {
      "cell_type": "code",
      "source": [
        "top_sentences = []\n",
        "for index in weighted_indices[-TOP_SENT_COUNT:]:\n",
        "  top_sentences.append(processed_sentences[index])"
      ],
      "metadata": {
        "id": "DFrDMjxygA2e"
      },
      "execution_count": 140,
      "outputs": []
    },
    {
      "cell_type": "markdown",
      "source": [
        "### Summarize the text"
      ],
      "metadata": {
        "id": "gzp0L-PSxCW_"
      }
    },
    {
      "cell_type": "code",
      "source": [
        "summarized_sentences = nlargest(3,top_sentences)"
      ],
      "metadata": {
        "id": "_kCtEKbemGpf"
      },
      "execution_count": 141,
      "outputs": []
    },
    {
      "cell_type": "code",
      "source": [
        "summarized_sentences"
      ],
      "metadata": {
        "colab": {
          "base_uri": "https://localhost:8080/"
        },
        "id": "N5M-VQ6dnOjG",
        "outputId": "5916f4dd-a541-49fb-cdf3-f18a28e580d2"
      },
      "execution_count": 142,
      "outputs": [
        {
          "output_type": "execute_result",
          "data": {
            "text/plain": [
              "['haunting Bly love story central problem narrative gothic romance Jane Eyre solution plot main obstacle',\n",
              " 'haunting Bly contain typical ingredient gothic romance young governess large haunted manor beautiful peculiar child ghost message concern love diverge old specimen',\n",
              " 'emancipation emergence woman right conventional central problem Victorian Gothic Romance love main hardship narrative feasible 21st century society']"
            ]
          },
          "metadata": {},
          "execution_count": 142
        }
      ]
    },
    {
      "cell_type": "code",
      "source": [
        "# Define a function to process each sentence\n",
        "def process_sentence(sentence):\n",
        "    # Parse the sentence using Spacy's sentence segmentation\n",
        "    doc = nlp(sentence)\n",
        "\n",
        "    # Lemmatize the words in the sentence and join them back into a string\n",
        "    lemmas = [token.lemma_ for token in doc]\n",
        "    sentence_text = ' '.join(lemmas)\n",
        "\n",
        "    # Construct a grammatically correct sentence from the lemmatized words\n",
        "    sentence_doc = nlp(sentence_text)\n",
        "    sentence_text = ''\n",
        "    for i, token in enumerate(sentence_doc):\n",
        "        # Add spaces between words\n",
        "        if i > 0:\n",
        "            sentence_text += ' '\n",
        "        # Add determiners to nouns if necessary\n",
        "        if token.pos_ == 'NOUN' and token.dep_ != 'compound':\n",
        "            sentence_text += 'a '\n",
        "        # Add the word to the sentence\n",
        "        sentence_text += token.text\n",
        "    # Capitalize the first letter of the sentence\n",
        "    sentence_text = sentence_text.capitalize()\n",
        "    # Add a period to the end of the sentence\n",
        "    sentence_text += '.'\n",
        "    return sentence_text\n"
      ],
      "metadata": {
        "id": "dScvY0nDqJJ-"
      },
      "execution_count": 143,
      "outputs": []
    },
    {
      "cell_type": "code",
      "source": [
        "processed_sentences = [process_sentence(sentence) for sentence in summarized_sentences]\n",
        "\n",
        "# Print the results\n",
        "for sentence in processed_sentences:\n",
        "    print(sentence)"
      ],
      "metadata": {
        "colab": {
          "base_uri": "https://localhost:8080/"
        },
        "id": "fBWrTtyprzwJ",
        "outputId": "5cf346f8-4f6c-49cb-8c87-07be02194ec2"
      },
      "execution_count": 144,
      "outputs": [
        {
          "output_type": "stream",
          "name": "stdout",
          "text": [
            "Haunt bly a love a story central problem a narrative gothic a romance jane eyre solution a plot main a obstacle.\n",
            "Haunt bly contain typical a ingredient gothic a romance young a governess large haunt a manor beautiful peculiar child ghost message concern a love diverge old a specimen.\n",
            "Emancipation emergence a woman right conventional central a problem victorian gothic romance love main hardship a narrative feasible 21st century a society.\n"
          ]
        }
      ]
    },
    {
      "cell_type": "markdown",
      "source": [
        "### Using Hugging Face Transformer"
      ],
      "metadata": {
        "id": "c6VT7g0Su13T"
      }
    },
    {
      "cell_type": "code",
      "source": [
        "import locale\n",
        "locale.getpreferredencoding = lambda: \"UTF-8\"\n",
        "!pip install transformers"
      ],
      "metadata": {
        "colab": {
          "base_uri": "https://localhost:8080/"
        },
        "id": "JWzKJd5cvE69",
        "outputId": "622d498f-c5e8-4b5e-8858-3149c0cdac73"
      },
      "execution_count": 150,
      "outputs": [
        {
          "output_type": "stream",
          "name": "stdout",
          "text": [
            "Looking in indexes: https://pypi.org/simple, https://us-python.pkg.dev/colab-wheels/public/simple/\n",
            "Collecting transformers\n",
            "  Downloading transformers-4.28.1-py3-none-any.whl (7.0 MB)\n",
            "\u001b[2K     \u001b[90m━━━━━━━━━━━━━━━━━━━━━━━━━━━━━━━━━━━━━━━━\u001b[0m \u001b[32m7.0/7.0 MB\u001b[0m \u001b[31m55.5 MB/s\u001b[0m eta \u001b[36m0:00:00\u001b[0m\n",
            "\u001b[?25hRequirement already satisfied: filelock in /usr/local/lib/python3.10/dist-packages (from transformers) (3.12.0)\n",
            "Collecting huggingface-hub<1.0,>=0.11.0 (from transformers)\n",
            "  Downloading huggingface_hub-0.14.1-py3-none-any.whl (224 kB)\n",
            "\u001b[2K     \u001b[90m━━━━━━━━━━━━━━━━━━━━━━━━━━━━━━━━━━━━━━\u001b[0m \u001b[32m224.5/224.5 kB\u001b[0m \u001b[31m25.0 MB/s\u001b[0m eta \u001b[36m0:00:00\u001b[0m\n",
            "\u001b[?25hRequirement already satisfied: numpy>=1.17 in /usr/local/lib/python3.10/dist-packages (from transformers) (1.22.4)\n",
            "Requirement already satisfied: packaging>=20.0 in /usr/local/lib/python3.10/dist-packages (from transformers) (23.1)\n",
            "Requirement already satisfied: pyyaml>=5.1 in /usr/local/lib/python3.10/dist-packages (from transformers) (6.0)\n",
            "Requirement already satisfied: regex!=2019.12.17 in /usr/local/lib/python3.10/dist-packages (from transformers) (2022.10.31)\n",
            "Requirement already satisfied: requests in /usr/local/lib/python3.10/dist-packages (from transformers) (2.27.1)\n",
            "Collecting tokenizers!=0.11.3,<0.14,>=0.11.1 (from transformers)\n",
            "  Downloading tokenizers-0.13.3-cp310-cp310-manylinux_2_17_x86_64.manylinux2014_x86_64.whl (7.8 MB)\n",
            "\u001b[2K     \u001b[90m━━━━━━━━━━━━━━━━━━━━━━━━━━━━━━━━━━━━━━━━\u001b[0m \u001b[32m7.8/7.8 MB\u001b[0m \u001b[31m95.8 MB/s\u001b[0m eta \u001b[36m0:00:00\u001b[0m\n",
            "\u001b[?25hRequirement already satisfied: tqdm>=4.27 in /usr/local/lib/python3.10/dist-packages (from transformers) (4.65.0)\n",
            "Requirement already satisfied: fsspec in /usr/local/lib/python3.10/dist-packages (from huggingface-hub<1.0,>=0.11.0->transformers) (2023.4.0)\n",
            "Requirement already satisfied: typing-extensions>=3.7.4.3 in /usr/local/lib/python3.10/dist-packages (from huggingface-hub<1.0,>=0.11.0->transformers) (4.5.0)\n",
            "Requirement already satisfied: urllib3<1.27,>=1.21.1 in /usr/local/lib/python3.10/dist-packages (from requests->transformers) (1.26.15)\n",
            "Requirement already satisfied: certifi>=2017.4.17 in /usr/local/lib/python3.10/dist-packages (from requests->transformers) (2022.12.7)\n",
            "Requirement already satisfied: charset-normalizer~=2.0.0 in /usr/local/lib/python3.10/dist-packages (from requests->transformers) (2.0.12)\n",
            "Requirement already satisfied: idna<4,>=2.5 in /usr/local/lib/python3.10/dist-packages (from requests->transformers) (3.4)\n",
            "Installing collected packages: tokenizers, huggingface-hub, transformers\n",
            "Successfully installed huggingface-hub-0.14.1 tokenizers-0.13.3 transformers-4.28.1\n",
            "\u001b[33mWARNING: Running pip as the 'root' user can result in broken permissions and conflicting behaviour with the system package manager. It is recommended to use a virtual environment instead: https://pip.pypa.io/warnings/venv\u001b[0m\u001b[33m\n",
            "\u001b[0m"
          ]
        }
      ]
    },
    {
      "cell_type": "code",
      "source": [
        "from transformers import pipeline\n",
        "import os"
      ],
      "metadata": {
        "id": "1MszxJFSu5G9"
      },
      "execution_count": 151,
      "outputs": []
    },
    {
      "cell_type": "code",
      "source": [
        "os.environ[\"CUDA_VISIBLE_DEVICES\"] = \"0\""
      ],
      "metadata": {
        "id": "IY866xX-vARq"
      },
      "execution_count": 152,
      "outputs": []
    },
    {
      "cell_type": "code",
      "source": [
        "summarizer = pipeline(\"summarization\")"
      ],
      "metadata": {
        "colab": {
          "base_uri": "https://localhost:8080/"
        },
        "id": "9VpMgltmv9cn",
        "outputId": "0d8e61e1-5aac-4dbd-ec37-23bd402efe3a"
      },
      "execution_count": 154,
      "outputs": [
        {
          "output_type": "stream",
          "name": "stderr",
          "text": [
            "No model was supplied, defaulted to sshleifer/distilbart-cnn-12-6 and revision a4f8f3e (https://huggingface.co/sshleifer/distilbart-cnn-12-6).\n",
            "Using a pipeline without specifying a model name and revision in production is not recommended.\n"
          ]
        }
      ]
    },
    {
      "cell_type": "code",
      "source": [
        "summary_text = summarizer(document , max_length = 100, min_length = 20, do_sample=False)[0]['summary_text']\n",
        "print(summary_text)"
      ],
      "metadata": {
        "colab": {
          "base_uri": "https://localhost:8080/"
        },
        "id": "6h7Kz-xiwLFN",
        "outputId": "5a10399d-9df3-4556-efd1-7b4809503790"
      },
      "execution_count": 155,
      "outputs": [
        {
          "output_type": "stream",
          "name": "stdout",
          "text": [
            " This paper focuses on the genre of Gothic romance, and how this genre has evolved into the 21st century . Mike Flannagan’s 2020 tv-show The Haunting of Bly Manor is a modern adaptation of Henry James’ The Turn of the Screw .\n"
          ]
        }
      ]
    }
  ]
}